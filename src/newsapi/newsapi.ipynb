{
 "cells": [
  {
   "cell_type": "code",
   "execution_count": 1,
   "id": "d45323b1",
   "metadata": {},
   "outputs": [],
   "source": [
    "from dotenv import load_dotenv\n",
    "import os\n",
    "import json\n",
    "\n",
    "load_dotenv()\n",
    "\n",
    "NEWSAPI_API_KEY = os.getenv(\"NEWSAPI_API_KEY\")"
   ]
  },
  {
   "cell_type": "code",
   "execution_count": 2,
   "id": "d5e42d26",
   "metadata": {},
   "outputs": [],
   "source": [
    "class NewsSource:\n",
    "    def __init__(self, key: str, domain: str, mbfc_rating: str):\n",
    "        self.key = key\n",
    "        self.domain = domain\n",
    "        self.mbfc_rating = mbfc_rating"
   ]
  },
  {
   "cell_type": "code",
   "execution_count": 5,
   "id": "53a34e39",
   "metadata": {},
   "outputs": [],
   "source": [
    "# Init all news sources\n",
    "\"\"\"\n",
    "- Right\n",
    "    - Fox News - [foxnews.com](http://foxnews.com)\n",
    "    - Breitbart - [breitbart.com](http://breitbart.com)\n",
    "    - Dailymail - [dailymail.co.uk](http://dailymail.co.uk) → UK\n",
    "    - The Sun - [thesun.co.uk](http://thesun.co.uk/) → UK\n",
    "- Right-Center\n",
    "    - Wall Street Journal - [wsj.com](http://wsj.com)\n",
    "    - New York Post - [nypost.com](http://nypost.com/)\n",
    "    - Forbes - [forbes.com](http://forbes.com)\n",
    "    - India Times - [indiatimes.com](http://indiatimes.com) → India\n",
    "    - News Week - [newsweek.com](http://newsweek.com/)\n",
    "- Neutral\n",
    "    - Reuters - [reuters.com](http://reuters.com)\n",
    "    - The Hill - [thehill.com](http://thehill.com)\n",
    "- Left-Center\n",
    "    - New York Times - [nytimes.com](http://nytimes.com)\n",
    "    - Washington Post - [washingtonpost.com](http://washingtonpost.com)\n",
    "    - USA Today - [usatoday.com](http://usatoday.com)\n",
    "    - Buzz Feed - [buzzfeed.com](http://buzzfeed.com)\n",
    "    - CBS News - [cbsnews.com](http://cbsnews.com)\n",
    "    - SF Gate - [sfgate.com](http://sfgate.com/)\n",
    "    - Bloomberg - [bloomberg.com](http://bloomberg.com)\n",
    "- Left\n",
    "    - CNN - [cnn.com](http://cnn.com)\n",
    "    - People - [people.com](http://people.com)\n",
    "\"\"\"\n",
    "news_sources = [\n",
    "    # Right\n",
    "    NewsSource(\"foxnews\", \"foxnews.com\", \"Right\"),\n",
    "    NewsSource(\"breitbart\", \"breitbart.com\", \"Right\"),\n",
    "    NewsSource(\"dailymail\", \"dailymail.co.uk\", \"Right\"),\n",
    "    NewsSource(\"thesun\", \"thesun.co.uk\", \"Right\"),\n",
    "    # Right-Center\n",
    "    NewsSource(\"wsj\", \"wsj.com\", \"Right-Center\"),\n",
    "    NewsSource(\"nypost\", \"nypost.com\", \"Right-Center\"),\n",
    "    NewsSource(\"forbes\", \"forbes.com\", \"Right-Center\"),\n",
    "    NewsSource(\"indiatimes\", \"indiatimes.com\", \"Right-Center\"),\n",
    "    NewsSource(\"newsweek\", \"newsweek.com\", \"Right-Center\"),\n",
    "    # Neutral\n",
    "    NewsSource(\"reuters\", \"reuters.com\", \"Neutral\"),\n",
    "    NewsSource(\"thehill\", \"thehill.com\", \"Neutral\"),\n",
    "    # Left-Center\n",
    "    NewsSource(\"nytimes\", \"nytimes.com\", \"Left-Center\"),\n",
    "    NewsSource(\"washingtonpost\", \"washingtonpost.com\", \"Left-Center\"),\n",
    "    NewsSource(\"usatoday\", \"usatoday.com\", \"Left-Center\"),\n",
    "    NewsSource(\"buzzfeed\", \"buzzfeed.com\", \"Left-Center\"),\n",
    "    NewsSource(\"cbsnews\", \"cbsnews.com\", \"Left-Center\"),\n",
    "    NewsSource(\"sfgate\", \"sfgate.com\", \"Left-Center\"),\n",
    "    NewsSource(\"bloomberg\", \"bloomberg.com\", \"Left-Center\"),\n",
    "    # Left\n",
    "    NewsSource(\"cnn\", \"cnn.com\", \"Left\"),\n",
    "    NewsSource(\"people\", \"people.com\", \"Left\"),   \n",
    "]"
   ]
  },
  {
   "cell_type": "code",
   "execution_count": 10,
   "id": "5ce3f245",
   "metadata": {},
   "outputs": [],
   "source": [
    "BASE_PATH = \"../../outputs/newsapi/\"\n",
    "ARTICLES_PATH = BASE_PATH + \"articles/\"\n",
    "AUTHORS_PATH = BASE_PATH + \"authors/\""
   ]
  },
  {
   "cell_type": "markdown",
   "id": "6afd7612",
   "metadata": {},
   "source": [
    "### Fetch The Articles"
   ]
  },
  {
   "cell_type": "code",
   "execution_count": null,
   "id": "b199194b",
   "metadata": {},
   "outputs": [],
   "source": [
    "from eventregistry import EventRegistry, QueryArticlesIter\n",
    "er = EventRegistry(apiKey=NEWSAPI_API_KEY)\n",
    "max_articles = 10000"
   ]
  },
  {
   "cell_type": "code",
   "execution_count": null,
   "id": "230fdded",
   "metadata": {},
   "outputs": [],
   "source": [
    "for source in news_sources:\n",
    "    q = QueryArticlesIter(\n",
    "        sourceUri = source.domain,\n",
    "        lang = \"eng\",\n",
    "        dateStart = \"2025-01-01\",\n",
    "    )\n",
    "\n",
    "    articles = []\n",
    "\n",
    "    for art in q.execQuery(er, sortBy = \"socialScore\", maxItems = 10000):\n",
    "        articles.append(art)\n",
    "    \n",
    "    # store the articles in a json file\n",
    "    with open(f\"{ARTICLES_PATH}{source.key}_articles.json\", \"w\") as f:\n",
    "        json.dump(articles, f, indent=4, ensure_ascii=False)\n"
   ]
  },
  {
   "cell_type": "markdown",
   "id": "13cbfdd8",
   "metadata": {},
   "source": [
    "### Analyze Authors"
   ]
  },
  {
   "cell_type": "code",
   "execution_count": 9,
   "id": "21ece092",
   "metadata": {},
   "outputs": [],
   "source": [
    "import pandas as pd"
   ]
  },
  {
   "cell_type": "code",
   "execution_count": 26,
   "id": "9be0f065",
   "metadata": {},
   "outputs": [
    {
     "name": "stdout",
     "output_type": "stream",
     "text": [
      "Processing foxnews... 1/20\n",
      "Processing breitbart... 2/20\n",
      "Processing dailymail... 3/20\n",
      "Processing thesun... 4/20\n",
      "Processing wsj... 5/20\n",
      "Processing nypost... 6/20\n",
      "Processing forbes... 7/20\n",
      "Processing indiatimes... 8/20\n",
      "Processing newsweek... 9/20\n",
      "Processing reuters... 10/20\n",
      "Processing thehill... 11/20\n",
      "Processing nytimes... 12/20\n",
      "Processing washingtonpost... 13/20\n",
      "Processing usatoday... 14/20\n",
      "Processing buzzfeed... 15/20\n",
      "Processing cbsnews... 16/20\n",
      "Processing sfgate... 17/20\n",
      "Processing bloomberg... 18/20\n",
      "Processing cnn... 19/20\n",
      "Processing people... 20/20\n",
      "Done!\n"
     ]
    }
   ],
   "source": [
    "for i, source in enumerate(news_sources):\n",
    "    print(f\"Processing {source.key}... {i+1}/{len(news_sources)}\")\n",
    "    # Load the articles\n",
    "    with open(f\"{ARTICLES_PATH}{source.key}_articles.json\", \"r\") as f:\n",
    "        articles = json.load(f)\n",
    "\n",
    "    authors2count = {}\n",
    "\n",
    "    for article in articles:\n",
    "        authors = article.get(\"authors\", [])\n",
    "        for author in authors:\n",
    "            author_name = author.get(\"name\", \"\")\n",
    "            if author_name in authors2count:\n",
    "                authors2count[author_name][\"count\"] += 1\n",
    "            else:\n",
    "                authors2count[author_name] = {\n",
    "                    \"name\": author_name,\n",
    "                    \"count\": 1,\n",
    "                    \"source\": source.key,\n",
    "                    \"mbfc_rating\": source.mbfc_rating,\n",
    "                    \"percentage\": 0\n",
    "                }\n",
    "\n",
    "    # Calculate the percentage\n",
    "    total_count = sum(author[\"count\"] for author in authors2count.values())\n",
    "    for author in authors2count:\n",
    "        authors2count[author][\"percentage\"] = authors2count[author][\"count\"] / total_count\n",
    "\n",
    "    # Sort the authors by count\n",
    "    authors2count = sorted(authors2count.values(), key=lambda x: x[\"count\"], reverse=True)\n",
    "\n",
    "    # Write the results to a csv file\n",
    "    authors_df = pd.DataFrame(authors2count)\n",
    "    authors_df.to_csv(f\"{AUTHORS_PATH}{source.key}_authors.csv\", index=False)\n",
    "\n",
    "print(\"Done!\")"
   ]
  },
  {
   "cell_type": "code",
   "execution_count": 29,
   "id": "351733fb",
   "metadata": {},
   "outputs": [
    {
     "name": "stdout",
     "output_type": "stream",
     "text": [
      "No articles found for forbes[forbes.com]\n",
      "No articles found for usatoday[usatoday.com]\n",
      "No articles found for buzzfeed[buzzfeed.com]\n",
      "No articles found for cnn[cnn.com]\n"
     ]
    }
   ],
   "source": [
    "# Merge all the authors csv files (sorted by percentage)\n",
    "merged_authors_df = pd.DataFrame()\n",
    "for source in news_sources:\n",
    "    try: \n",
    "        authors_df = pd.read_csv(f\"{AUTHORS_PATH}{source.key}_authors.csv\")\n",
    "        merged_authors_df = pd.concat([merged_authors_df, authors_df])\n",
    "    except:\n",
    "        print(f\"No articles found for {source.key}[{source.domain}]\")\n",
    "\n",
    "merged_authors_df = merged_authors_df.sort_values(by=\"percentage\", ascending=False)\n",
    "merged_authors_df.to_csv(f\"{AUTHORS_PATH}all_authors.csv\", index=False)"
   ]
  }
 ],
 "metadata": {
  "kernelspec": {
   "display_name": ".venv",
   "language": "python",
   "name": "python3"
  },
  "language_info": {
   "codemirror_mode": {
    "name": "ipython",
    "version": 3
   },
   "file_extension": ".py",
   "mimetype": "text/x-python",
   "name": "python",
   "nbconvert_exporter": "python",
   "pygments_lexer": "ipython3",
   "version": "3.13.2"
  }
 },
 "nbformat": 4,
 "nbformat_minor": 5
}
